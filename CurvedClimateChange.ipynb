{
 "cells": [
  {
   "cell_type": "code",
   "execution_count": 30,
   "metadata": {},
   "outputs": [],
   "source": [
    "import pandas as pd\n",
    "import numpy as np\n",
    "from datetime import datetime\n",
    "import matplotlib.pyplot as plt\n",
    "from sklearn.model_selection import train_test_split\n",
    "from sklearn.linear_model import LinearRegression"
   ]
  },
  {
   "cell_type": "code",
   "execution_count": 31,
   "metadata": {},
   "outputs": [],
   "source": [
    "globalTemperaturesDataFrame = pd.read_csv(\"dataset/GlobalTemperatures_.csv\")\n",
    "landAverageTemperatureDataFrame = globalTemperaturesDataFrame[['dt','LandAverageTemperature']]\n",
    "landAverageTemperatureDataFrame = landAverageTemperatureDataFrame.dropna()\n",
    "landAverageTemperatureDataFrame['dt'] = landAverageTemperatureDataFrame['dt'].str.split('-', 0, expand= True).astype(int)\n",
    "landAverageTemperatureDataFrame = landAverageTemperatureDataFrame.groupby(['dt']).mean().reset_index()"
   ]
  },
  {
   "cell_type": "code",
   "execution_count": 32,
   "metadata": {},
   "outputs": [],
   "source": [
    "Y = landAverageTemperatureDataFrame[['LandAverageTemperature']]\n",
    "X = landAverageTemperatureDataFrame[['dt']]"
   ]
  },
  {
   "cell_type": "code",
   "execution_count": null,
   "metadata": {},
   "outputs": [],
   "source": [
    "from sklearn.preprocessing import PolynomialFeatures\n",
    "\n",
    "poly_reg=PolynomialFeatures(degree=4)\n",
    "X_poly=poly_reg.fit_transform(X)\n",
    "\n",
    "poly_reg.fit(X_poly,Y)\n",
    "\n",
    "lin_reg2=LinearRegression()\n",
    "lin_reg2.fit(X_poly,Y)\n",
    "\n",
    "# prediction\n",
    "futureList = range(2014, 2100) \n",
    "futureX = pd.DataFrame(futureList, columns = ['dt']) \n",
    "futureYearDf_ = poly_reg.fit_transform(futureYearDf)\n",
    "predictedY = lin_reg2.predict(futureYearDf_)\n",
    "\n",
    "X_grid=np.arange(min(X.values),max(X.values),0.1)\n",
    "X_grid=X_grid.reshape((len(X_grid),1))\n",
    "plt.scatter(X,Y,color='red')\n",
    "#plt.plot(X,lin_reg2.predict(poly_reg.fit_transform(X)),color='blue')\n",
    "plt.scatter(futureX,predictedY,color='blue')\n",
    "plt.title('Earth land Temperature prediction by 2100 (Polynomial Regression)')\n",
    "plt.xlabel('Years')\n",
    "plt.ylabel('Land Average Temperature')\n",
    "plt.show()"
   ]
  },
  {
   "cell_type": "code",
   "execution_count": null,
   "metadata": {},
   "outputs": [],
   "source": []
  }
 ],
 "metadata": {
  "kernelspec": {
   "display_name": "Python 2",
   "language": "python",
   "name": "python2"
  },
  "language_info": {
   "codemirror_mode": {
    "name": "ipython",
    "version": 2
   },
   "file_extension": ".py",
   "mimetype": "text/x-python",
   "name": "python",
   "nbconvert_exporter": "python",
   "pygments_lexer": "ipython2",
   "version": "2.7.16"
  }
 },
 "nbformat": 4,
 "nbformat_minor": 2
}
