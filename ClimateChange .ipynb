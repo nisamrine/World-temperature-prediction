{
 "cells": [
  {
   "cell_type": "code",
   "execution_count": null,
   "metadata": {},
   "outputs": [],
   "source": [
    "import pandas as pd\n",
    "from datetime import datetime\n",
    "import matplotlib.pyplot as plt\n",
    "from sklearn.model_selection import train_test_split\n",
    "from sklearn.linear_model import LinearRegression\n",
    "from scipy.optimize import curve_fit"
   ]
  },
  {
   "cell_type": "code",
   "execution_count": null,
   "metadata": {},
   "outputs": [],
   "source": [
    "globalTemperaturesDataFrame = pd.read_csv(\"dataset/GlobalTemperatures_.csv\")\n",
    "landAverageTemperatureDataFrame = globalTemperaturesDataFrame[['dt','LandAverageTemperature']]\n",
    "landAverageTemperatureDataFrame = landAverageTemperatureDataFrame.dropna()\n",
    "landAverageTemperatureDataFrame['dt'] = landAverageTemperatureDataFrame['dt'].str.split('-', 0, expand= True).astype(int)\n",
    "landAverageTemperatureDataFrame = landAverageTemperatureDataFrame.groupby(['dt']).mean().reset_index()"
   ]
  },
  {
   "cell_type": "code",
   "execution_count": null,
   "metadata": {
    "scrolled": true
   },
   "outputs": [],
   "source": [
    "temperatureDataFrame = landAverageTemperatureDataFrame[['LandAverageTemperature']]\n",
    "dateDataFrame = landAverageTemperatureDataFrame[['dt']]\n",
    "dateDataFrame_train, dateDataFrame_test, temperatureDataFrame_train, temperatureDataFrame_test = train_test_split(dateDataFrame, temperatureDataFrame, test_size=0.2, random_state=0)\n",
    "model = LinearRegression()\n",
    "model.fit(dateDataFrame_train.values, temperatureDataFrame_train.values)\n",
    "temperatureDataFrame_pred = model.predict(dateDataFrame_test)\n",
    "#testResultDataFrame = pd.DataFrame({'Actual': temperatureDataFrame_test, 'Predicted': temperatureDataFrame_pred})"
   ]
  },
  {
   "cell_type": "code",
   "execution_count": null,
   "metadata": {},
   "outputs": [],
   "source": [
    "futureList = [2016, 2017, 2018, 2019, 2020, 2021, 2022, 2023, 2024, 2025, 2026, 2027, 2028, 2029, 2030, 2031, 2032, 2034, 2035, 2036, 2037, 2038, 2039, 2040, 2041, 2042] \n",
    "futureYearDf = pd.DataFrame(futureList, columns = ['dt']) \n",
    "futureTemperatureDf_pred = model.predict(futureYearDf.values)\n",
    "futureYearDf[\"LandAverageTemperature\"] = futureTemperatureDf_pred"
   ]
  },
  {
   "cell_type": "code",
   "execution_count": null,
   "metadata": {},
   "outputs": [],
   "source": [
    "pastAndFutureList = [landAverageTemperatureDataFrame, futureYearDf]\n",
    "pastAndFutureDF = pd.concat(pastAndFutureList)\n",
    "import matplotlib.pyplot as plt\n",
    "\n",
    "pastAndFutureDF.plot(x=\"dt\", y=[\"LandAverageTemperature\"])\n",
    "#plt.scatter(pastAndFutureDF[['dt']], pastAndFutureDF[['LandAverageTemperature']])\n",
    "\n",
    "\n",
    "# define the true objective function\n",
    "def objective(x, a, b, c):\n",
    "    return a * x + b * x**2 + c\n",
    "\n",
    "# define a sequence of inputs between the smallest and largest known inputs\n",
    "x_line = arange(min(x), max(x), 1)\n",
    "# calculate the output for the range\n",
    "y_line = objective(x_line, a, b)\n",
    "# create a line plot for the mapping function\n",
    "pyplot.plot(x_line, y_line, '--', color='red')\n",
    "\n",
    "plt.show()"
   ]
  },
  {
   "cell_type": "code",
   "execution_count": null,
   "metadata": {},
   "outputs": [],
   "source": []
  }
 ],
 "metadata": {
  "kernelspec": {
   "display_name": "Python 2",
   "language": "python",
   "name": "python2"
  },
  "language_info": {
   "codemirror_mode": {
    "name": "ipython",
    "version": 2
   },
   "file_extension": ".py",
   "mimetype": "text/x-python",
   "name": "python",
   "nbconvert_exporter": "python",
   "pygments_lexer": "ipython2",
   "version": "2.7.16"
  }
 },
 "nbformat": 4,
 "nbformat_minor": 2
}
